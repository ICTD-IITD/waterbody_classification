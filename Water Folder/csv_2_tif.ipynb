{
 "cells": [
  {
   "cell_type": "code",
   "execution_count": 1,
   "metadata": {},
   "outputs": [],
   "source": [
    "import pandas as pd\n",
    "from osgeo import gdal\n",
    "\n",
    "import numpy as np  \n",
    "\n"
   ]
  },
  {
   "cell_type": "code",
   "execution_count": 2,
   "metadata": {},
   "outputs": [
    {
     "name": "stderr",
     "output_type": "stream",
     "text": [
      "ERROR 4: classes.tif: No such file or directory\n"
     ]
    },
    {
     "ename": "ValueError",
     "evalue": "Received a NULL pointer.",
     "output_type": "error",
     "traceback": [
      "\u001b[0;31m---------------------------------------------------------------------------\u001b[0m",
      "\u001b[0;31mValueError\u001b[0m                                Traceback (most recent call last)",
      "\u001b[1;32m/home/higgsboson/Codes/WaterBody/Water Folder/csv_2_tif.ipynb Cell 2\u001b[0m in \u001b[0;36m<cell line: 6>\u001b[0;34m()\u001b[0m\n\u001b[1;32m      <a href='vscode-notebook-cell:/home/higgsboson/Codes/WaterBody/Water%20Folder/csv_2_tif.ipynb#W1sZmlsZQ%3D%3D?line=0'>1</a>\u001b[0m ds \u001b[39m=\u001b[39m gdal\u001b[39m.\u001b[39mOpen(\u001b[39m\"\u001b[39m\u001b[39mclasses.tif\u001b[39m\u001b[39m\"\u001b[39m)\n\u001b[1;32m      <a href='vscode-notebook-cell:/home/higgsboson/Codes/WaterBody/Water%20Folder/csv_2_tif.ipynb#W1sZmlsZQ%3D%3D?line=1'>2</a>\u001b[0m \u001b[39m# ds = gdal.Open(\"Months/sentinel2a_Jamui_2021_01.tif\")\u001b[39;00m\n\u001b[1;32m      <a href='vscode-notebook-cell:/home/higgsboson/Codes/WaterBody/Water%20Folder/csv_2_tif.ipynb#W1sZmlsZQ%3D%3D?line=2'>3</a>\u001b[0m \n\u001b[1;32m      <a href='vscode-notebook-cell:/home/higgsboson/Codes/WaterBody/Water%20Folder/csv_2_tif.ipynb#W1sZmlsZQ%3D%3D?line=3'>4</a>\u001b[0m \u001b[39m# TIFF to CSV \u001b[39;00m\n\u001b[1;32m      <a href='vscode-notebook-cell:/home/higgsboson/Codes/WaterBody/Water%20Folder/csv_2_tif.ipynb#W1sZmlsZQ%3D%3D?line=4'>5</a>\u001b[0m \u001b[39m# first option\u001b[39;00m\n\u001b[0;32m----> <a href='vscode-notebook-cell:/home/higgsboson/Codes/WaterBody/Water%20Folder/csv_2_tif.ipynb#W1sZmlsZQ%3D%3D?line=5'>6</a>\u001b[0m xyz \u001b[39m=\u001b[39m gdal\u001b[39m.\u001b[39;49mTranslate(\u001b[39m\"\u001b[39;49m\u001b[39mdem.xyz\u001b[39;49m\u001b[39m\"\u001b[39;49m, ds)\n\u001b[1;32m      <a href='vscode-notebook-cell:/home/higgsboson/Codes/WaterBody/Water%20Folder/csv_2_tif.ipynb#W1sZmlsZQ%3D%3D?line=6'>7</a>\u001b[0m xyz \u001b[39m=\u001b[39m \u001b[39mNone\u001b[39;00m\n\u001b[1;32m      <a href='vscode-notebook-cell:/home/higgsboson/Codes/WaterBody/Water%20Folder/csv_2_tif.ipynb#W1sZmlsZQ%3D%3D?line=8'>9</a>\u001b[0m df1 \u001b[39m=\u001b[39m pd\u001b[39m.\u001b[39mread_csv(\u001b[39m\"\u001b[39m\u001b[39mdem.xyz\u001b[39m\u001b[39m\"\u001b[39m, sep \u001b[39m=\u001b[39m \u001b[39m\"\u001b[39m\u001b[39m \u001b[39m\u001b[39m\"\u001b[39m, header \u001b[39m=\u001b[39m \u001b[39mNone\u001b[39;00m)\n",
      "File \u001b[0;32m/usr/lib/python3/dist-packages/osgeo/gdal.py:457\u001b[0m, in \u001b[0;36mTranslate\u001b[0;34m(destName, srcDS, **kwargs)\u001b[0m\n\u001b[1;32m    454\u001b[0m \u001b[39mif\u001b[39;00m \u001b[39misinstance\u001b[39m(srcDS, \u001b[39mstr\u001b[39m):\n\u001b[1;32m    455\u001b[0m     srcDS \u001b[39m=\u001b[39m Open(srcDS)\n\u001b[0;32m--> 457\u001b[0m \u001b[39mreturn\u001b[39;00m TranslateInternal(destName, srcDS, opts, callback, callback_data)\n",
      "File \u001b[0;32m/usr/lib/python3/dist-packages/osgeo/gdal.py:4189\u001b[0m, in \u001b[0;36mTranslateInternal\u001b[0;34m(*args)\u001b[0m\n\u001b[1;32m   4187\u001b[0m \u001b[39mdef\u001b[39;00m \u001b[39mTranslateInternal\u001b[39m(\u001b[39m*\u001b[39margs):\n\u001b[1;32m   4188\u001b[0m     \u001b[39mr\u001b[39m\u001b[39m\"\"\"TranslateInternal(char const * dest, Dataset dataset, GDALTranslateOptions translateOptions, GDALProgressFunc callback=0, void * callback_data=None) -> Dataset\"\"\"\u001b[39;00m\n\u001b[0;32m-> 4189\u001b[0m     \u001b[39mreturn\u001b[39;00m _gdal\u001b[39m.\u001b[39;49mTranslateInternal(\u001b[39m*\u001b[39;49margs)\n",
      "\u001b[0;31mValueError\u001b[0m: Received a NULL pointer."
     ]
    }
   ],
   "source": [
    "ds = gdal.Open(\"classes.tif\")\n",
    "# ds = gdal.Open(\"Months/sentinel2a_Jamui_2021_01.tif\")\n",
    "\n",
    "# TIFF to CSV \n",
    "# first option\n",
    "xyz = gdal.Translate(\"dem.xyz\", ds)\n",
    "xyz = None\n",
    "\n",
    "df1 = pd.read_csv(\"dem.xyz\", sep = \" \", header = None)\n",
    "df1.columns = [\"x\",\"y\", \"value\"]\n",
    "df1.drop('value', inplace=True, axis=1)"
   ]
  },
  {
   "cell_type": "code",
   "execution_count": null,
   "metadata": {},
   "outputs": [],
   "source": [
    "df = pd.read_csv('map.csv')\n",
    "# df_all = pd.read_csv('map.csv')\n",
    "df.drop('index', inplace=True, axis=1)\n",
    "\n",
    "dall = pd.merge(df1, df, how=\"left\",left_on=['x','y'], right_on = ['x','y'])\n",
    "\n",
    "dall['value'] = dall['value'].fillna(2)\n",
    "\n"
   ]
  },
  {
   "cell_type": "code",
   "execution_count": null,
   "metadata": {},
   "outputs": [],
   "source": [
    "# dall['value'] = dall['value']*126\n",
    "\n",
    "dall['r'] = np.where(dall['value']=='0', '255', '0')\n",
    "dall['g'] = 0\n",
    "dall['b'] = np.where(dall['value']=='1', '255', '0')"
   ]
  },
  {
   "cell_type": "code",
   "execution_count": null,
   "metadata": {},
   "outputs": [
    {
     "name": "stdout",
     "output_type": "stream",
     "text": [
      "                 x          y  value  r  g  b\n",
      "0        85.820146  25.144249    2.0  0  0  0\n",
      "1        85.820416  25.144249    2.0  0  0  0\n",
      "2        85.820685  25.144249    2.0  0  0  0\n",
      "3        85.820955  25.144249    2.0  0  0  0\n",
      "4        85.821224  25.144249    2.0  0  0  0\n",
      "...            ...        ...    ... .. .. ..\n",
      "8461435  86.610574  24.368374    2.0  0  0  0\n",
      "8461436  86.610844  24.368374    2.0  0  0  0\n",
      "8461437  86.611113  24.368374    2.0  0  0  0\n",
      "8461438  86.611383  24.368374    2.0  0  0  0\n",
      "8461439  86.611652  24.368374    2.0  0  0  0\n",
      "\n",
      "[8461440 rows x 6 columns]\n"
     ]
    }
   ],
   "source": [
    "print(dall)\n"
   ]
  },
  {
   "cell_type": "code",
   "execution_count": null,
   "metadata": {},
   "outputs": [],
   "source": [
    "# dall.drop('value', inplace=True, axis=1)"
   ]
  },
  {
   "cell_type": "code",
   "execution_count": null,
   "metadata": {},
   "outputs": [],
   "source": [
    "\n",
    "dall.to_csv(\"map.xyz\", index = False, header = None, sep = \" \")\n",
    "demn = gdal.Translate(\"map.tif\", \"map.xyz\")\n",
    "demn = None"
   ]
  }
 ],
 "metadata": {
  "kernelspec": {
   "display_name": "Python 3.10.6 64-bit",
   "language": "python",
   "name": "python3"
  },
  "language_info": {
   "codemirror_mode": {
    "name": "ipython",
    "version": 3
   },
   "file_extension": ".py",
   "mimetype": "text/x-python",
   "name": "python",
   "nbconvert_exporter": "python",
   "pygments_lexer": "ipython3",
   "version": "3.10.6"
  },
  "orig_nbformat": 4,
  "vscode": {
   "interpreter": {
    "hash": "e7370f93d1d0cde622a1f8e1c04877d8463912d04d973331ad4851f04de6915a"
   }
  }
 },
 "nbformat": 4,
 "nbformat_minor": 2
}
