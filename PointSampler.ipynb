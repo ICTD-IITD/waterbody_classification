{
  "cells": [
    {
      "cell_type": "code",
      "execution_count": 1,
      "metadata": {
        "id": "wjxkHozqeQlk"
      },
      "outputs": [],
      "source": [
        "import numpy as np\n",
        "import matplotlib.pyplot as plt\n",
        "import pandas as pd"
      ]
    },
    {
      "cell_type": "code",
      "execution_count": 2,
      "metadata": {
        "colab": {
          "base_uri": "https://localhost:8080/"
        },
        "id": "tquPBP2jlrAp",
        "outputId": "29c0bccb-e1b2-4821-ff1c-9905bd5ff556"
      },
      "outputs": [],
      "source": [
        "# from google.colab import drive\n",
        "# drive.mount('/content/drive')"
      ]
    },
    {
      "cell_type": "code",
      "execution_count": 3,
      "metadata": {
        "id": "1FnQv8HPl5kl"
      },
      "outputs": [],
      "source": [
        "file = 'Bands_1.csv'\n"
      ]
    },
    {
      "cell_type": "code",
      "execution_count": 4,
      "metadata": {
        "id": "bYH1NCwPbM0a"
      },
      "outputs": [],
      "source": [
        "# A Python3 program to check if a given point \n",
        "# lies inside a given polygon\n",
        "# Refer https://www.geeksforgeeks.org/check-if-two-given-line-segments-intersect/\n",
        "# for explanation of functions onSegment(),\n",
        "# orientation() and doIntersect() \n",
        " \n",
        "# Define Infinite (Using INT_MAX \n",
        "# caused overflow problems)\n",
        "INT_MAX = 10000\n",
        " \n",
        "# Given three collinear points p, q, r, \n",
        "# the function checks if point q lies\n",
        "# on line segment 'pr'\n",
        "def onSegment(p:tuple, q:tuple, r:tuple) -> bool:\n",
        "     \n",
        "    if ((q[0] <= max(p[0], r[0])) &\n",
        "        (q[0] >= min(p[0], r[0])) &\n",
        "        (q[1] <= max(p[1], r[1])) &\n",
        "        (q[1] >= min(p[1], r[1]))):\n",
        "        return True\n",
        "         \n",
        "    return False\n",
        " \n",
        "# To find orientation of ordered triplet (p, q, r).\n",
        "# The function returns following values\n",
        "# 0 --> p, q and r are collinear\n",
        "# 1 --> Clockwise\n",
        "# 2 --> Counterclockwise\n",
        "def orientation(p:tuple, q:tuple, r:tuple) -> int:\n",
        "     \n",
        "    val = (((q[1] - p[1]) *\n",
        "            (r[0] - q[0])) -\n",
        "           ((q[0] - p[0]) *\n",
        "            (r[1] - q[1])))\n",
        "            \n",
        "    if val == 0:\n",
        "        return 0\n",
        "    if val > 0:\n",
        "        return 1 # Collinear\n",
        "    else:\n",
        "        return 2 # Clock or counterclock\n",
        " \n",
        "def doIntersect(p1, q1, p2, q2):\n",
        "     \n",
        "    # Find the four orientations needed for \n",
        "    # general and special cases\n",
        "    o1 = orientation(p1, q1, p2)\n",
        "    o2 = orientation(p1, q1, q2)\n",
        "    o3 = orientation(p2, q2, p1)\n",
        "    o4 = orientation(p2, q2, q1)\n",
        " \n",
        "    # General case\n",
        "    if (o1 != o2) and (o3 != o4):\n",
        "        return True\n",
        "     \n",
        "    # Special Cases\n",
        "    # p1, q1 and p2 are collinear and\n",
        "    # p2 lies on segment p1q1\n",
        "    if (o1 == 0) and (onSegment(p1, p2, q1)):\n",
        "        return True\n",
        " \n",
        "    # p1, q1 and p2 are collinear and\n",
        "    # q2 lies on segment p1q1\n",
        "    if (o2 == 0) and (onSegment(p1, q2, q1)):\n",
        "        return True\n",
        " \n",
        "    # p2, q2 and p1 are collinear and\n",
        "    # p1 lies on segment p2q2\n",
        "    if (o3 == 0) and (onSegment(p2, p1, q2)):\n",
        "        return True\n",
        " \n",
        "    # p2, q2 and q1 are collinear and\n",
        "    # q1 lies on segment p2q2\n",
        "    if (o4 == 0) and (onSegment(p2, q1, q2)):\n",
        "        return True\n",
        " \n",
        "    return False\n",
        " \n",
        "# Returns true if the point p lies \n",
        "# inside the polygon[] with n vertices\n",
        "def is_inside_polygon(points:list, p:tuple) -> bool:\n",
        "     \n",
        "    n = len(points)\n",
        "     \n",
        "    # There must be at least 3 vertices\n",
        "    # in polygon\n",
        "    if n < 3:\n",
        "        return False\n",
        "         \n",
        "    # Create a point for line segment\n",
        "    # from p to infinite\n",
        "    extreme = (INT_MAX, p[1])\n",
        "     \n",
        "    # To count number of points in polygon\n",
        "      # whose y-coordinate is equal to\n",
        "      # y-coordinate of the point\n",
        "    decrease = 0\n",
        "    count = i = 0\n",
        "     \n",
        "    while True:\n",
        "        next = (i + 1) % n\n",
        "         \n",
        "        if(points[i][1] == p[1]):\n",
        "            decrease += 1\n",
        "         \n",
        "        # Check if the line segment from 'p' to \n",
        "        # 'extreme' intersects with the line \n",
        "        # segment from 'polygon[i]' to 'polygon[next]'\n",
        "        if (doIntersect(points[i],\n",
        "                        points[next],\n",
        "                        p, extreme)):\n",
        "                             \n",
        "            # If the point 'p' is collinear with line \n",
        "            # segment 'i-next', then check if it lies \n",
        "            # on segment. If it lies, return true, otherwise false\n",
        "            if orientation(points[i], p,\n",
        "                           points[next]) == 0:\n",
        "                return onSegment(points[i], p,\n",
        "                                 points[next])\n",
        "                                  \n",
        "            count += 1\n",
        "             \n",
        "        i = next\n",
        "         \n",
        "        if (i == 0):\n",
        "            break\n",
        "             \n",
        "    # Reduce the count by decrease amount\n",
        "      # as these points would have been added twice\n",
        "    count -= decrease\n",
        "     \n",
        "    # Return true if count is odd, false otherwise\n",
        "    return (count % 2 == 1)\n",
        " \n",
        "# Driver code\n",
        "# if __name__ == '__main__':\n",
        "    \n",
        "#   polygon1 = [ (78.052657, 13.120414), (78.052934, 13.120436), (78.052898, 13.120601), (78.052657, 13.120588), (78.052657, 13.120414) ]\n",
        "    \n",
        "#   L1 = [()]\n",
        "#   L1_new = []\n",
        "#   for p in L1:\n",
        "#       if (is_inside_polygon(points = polygon1, p = p)):\n",
        "#           L1_new.append(p)\n",
        "#       else:\n",
        "#           pass\n",
        "      \n",
        "#   polygon1 = [ (78.052657, 13.120414), (78.052934, 13.120436), (78.052898, 13.120601), (78.052657, 13.120588), (78.052657, 13.120414) ]\n",
        "  \n",
        "\n",
        "#   if (is_inside_polygon(points = polygon1, p = p)):\n",
        "#     print ('Yes')\n",
        "#   else:\n",
        "#     print ('No')\n",
        "\n",
        "#   polygon2 = [ (0, 0), (5, 0), (5, 5), (3, 3) ]\n",
        "    \n",
        "#   L2 = [()]\n",
        "#   L2_new = []\n",
        "#   for p in L2:\n",
        "#       if (is_inside_polygon(points = polygon2, p = p)):\n",
        "#           L2_new.append(p)\n",
        "#       else:\n",
        "#           pass"
      ]
    },
    {
      "cell_type": "code",
      "execution_count": 5,
      "metadata": {
        "id": "cUJCthzZbRM0"
      },
      "outputs": [],
      "source": [
        "polygon1 =  [ ( 78.19440501392705, 13.13144792604561 ), ( 78.20191022097467, 13.13144792604561 ), ( 78.20191022097467, 13.13765235639166 ), ( 78.19440501392705, 13.13765235639166 ), ( 78.19440501392705, 13.13144792604561 ) ]\n",
        "polygon2 = [ (78.050865, 13.122777), (78.050887, 13.122639), (78.0511639, 13.120601), (78.051021, 13.120588), (78.050865, 13.120414) ]"
      ]
    },
    {
      "cell_type": "code",
      "execution_count": 6,
      "metadata": {
        "id": "wTBKWEYJeZYH"
      },
      "outputs": [],
      "source": [
        "data = pd.read_csv(file)\n",
        "poly1_coordinates = []\n",
        "poly2_coordinates = []"
      ]
    },
    {
      "cell_type": "code",
      "execution_count": 7,
      "metadata": {
        "id": "V9YbyMZxeYIh"
      },
      "outputs": [],
      "source": [
        "coordinates = data['.geo']"
      ]
    },
    {
      "cell_type": "code",
      "execution_count": 8,
      "metadata": {
        "colab": {
          "base_uri": "https://localhost:8080/"
        },
        "id": "u5_quw5ziwxW",
        "outputId": "3c52a09f-f0c7-4424-b633-58cf9d0d41df"
      },
      "outputs": [
        {
          "name": "stdout",
          "output_type": "stream",
          "text": [
            "40\n"
          ]
        }
      ],
      "source": [
        "print(len(coordinates.unique()))"
      ]
    },
    {
      "cell_type": "code",
      "execution_count": 9,
      "metadata": {
        "id": "ztzbUF8FjPw7"
      },
      "outputs": [],
      "source": [
        "x_coordinates = []\n",
        "y_coordinates = []"
      ]
    },
    {
      "cell_type": "code",
      "execution_count": 10,
      "metadata": {
        "colab": {
          "base_uri": "https://localhost:8080/"
        },
        "id": "v8B0z623emly",
        "outputId": "4e2b41f8-9479-4851-a999-d79d0608c861"
      },
      "outputs": [
        {
          "name": "stdout",
          "output_type": "stream",
          "text": [
            "(78.15656917243544, 12.826418155727978)\n",
            "(78.74163931502379, 12.780724791715844)\n",
            "(77.9756836721797, 13.447137548045394)\n",
            "(77.8583194257387, 12.642488191446043)\n",
            "(77.8488947210855, 12.928129788553226)\n",
            "(78.76999819878446, 13.123839871754672)\n",
            "(78.44728713133662, 13.154421994809873)\n",
            "(78.6685633848612, 13.42648195272544)\n",
            "(78.53625708568862, 13.398857569739622)\n",
            "(78.41007188651287, 13.159892406141664)\n",
            "(78.16117096699932, 13.19461470745829)\n",
            "(77.79906107857616, 13.217468148692896)\n",
            "(77.97513786887525, 13.400549747035063)\n",
            "(77.86477825038698, 13.212011340461606)\n",
            "(78.69620036706614, 13.292024658742813)\n",
            "(78.76905041123155, 13.065725960355028)\n",
            "(78.45000107859391, 13.351370996365485)\n",
            "(78.66963970898082, 13.497252313592385)\n",
            "(78.01343168962137, 13.204077911554705)\n",
            "(78.41316871093372, 13.386576816204531)\n",
            "(78.15010810157095, 13.149810389665896)\n",
            "(77.7919039989731, 12.575742495004821)\n",
            "(77.96690227321356, 12.713499397578)\n",
            "(77.8657372026921, 13.338184193857067)\n",
            "(78.76477270379647, 12.761154308311077)\n",
            "(78.74722831591016, 12.660852229175486)\n",
            "(78.39819315927896, 13.157606538159511)\n",
            "(78.5821899030093, 13.193159306108802)\n",
            "(78.52730923543972, 12.703893801599701)\n",
            "(78.35748436203558, 13.217380454058937)\n",
            "(78.15656917243544, 12.826418155727978)\n",
            "(78.74163931502379, 12.780724791715844)\n",
            "(77.9756836721797, 13.447137548045394)\n",
            "(77.8583194257387, 12.642488191446043)\n",
            "(77.8488947210855, 12.928129788553226)\n",
            "(78.76999819878446, 13.123839871754672)\n",
            "(78.44728713133662, 13.154421994809873)\n",
            "(78.6685633848612, 13.42648195272544)\n",
            "(78.53625708568862, 13.398857569739622)\n",
            "(78.41007188651287, 13.159892406141664)\n",
            "(78.15656917243544, 12.826418155727978)\n",
            "(78.74163931502379, 12.780724791715844)\n",
            "(77.9756836721797, 13.447137548045394)\n",
            "(77.8583194257387, 12.642488191446043)\n",
            "(77.8488947210855, 12.928129788553226)\n",
            "(78.76999819878446, 13.123839871754672)\n",
            "(78.44728713133662, 13.154421994809873)\n",
            "(78.6685633848612, 13.42648195272544)\n",
            "(78.53625708568862, 13.398857569739622)\n",
            "(78.41007188651287, 13.159892406141664)\n",
            "(78.15656917243544, 12.826418155727978)\n",
            "(78.74163931502379, 12.780724791715844)\n",
            "(77.9756836721797, 13.447137548045394)\n",
            "(77.8583194257387, 12.642488191446043)\n",
            "(77.8488947210855, 12.928129788553226)\n",
            "(78.76999819878446, 13.123839871754672)\n",
            "(78.44728713133662, 13.154421994809873)\n",
            "(78.6685633848612, 13.42648195272544)\n",
            "(78.53625708568862, 13.398857569739622)\n",
            "(78.41007188651287, 13.159892406141664)\n",
            "(78.15656917243544, 12.826418155727978)\n",
            "(78.74163931502379, 12.780724791715844)\n",
            "(77.9756836721797, 13.447137548045394)\n",
            "(77.8583194257387, 12.642488191446043)\n",
            "(77.8488947210855, 12.928129788553226)\n",
            "(78.76999819878446, 13.123839871754672)\n",
            "(78.44728713133662, 13.154421994809873)\n",
            "(78.6685633848612, 13.42648195272544)\n",
            "(78.53625708568862, 13.398857569739622)\n",
            "(78.41007188651287, 13.159892406141664)\n",
            "(78.15656917243544, 12.826418155727978)\n",
            "(78.74163931502379, 12.780724791715844)\n",
            "(77.9756836721797, 13.447137548045394)\n",
            "(77.8583194257387, 12.642488191446043)\n",
            "(77.8488947210855, 12.928129788553226)\n",
            "(78.76999819878446, 13.123839871754672)\n",
            "(78.44728713133662, 13.154421994809873)\n",
            "(78.6685633848612, 13.42648195272544)\n",
            "(78.53625708568862, 13.398857569739622)\n",
            "(78.41007188651287, 13.159892406141664)\n",
            "(78.15656917243544, 12.826418155727978)\n",
            "(78.74163931502379, 12.780724791715844)\n",
            "(77.9756836721797, 13.447137548045394)\n",
            "(77.8583194257387, 12.642488191446043)\n",
            "(77.8488947210855, 12.928129788553226)\n",
            "(78.76999819878446, 13.123839871754672)\n",
            "(78.44728713133662, 13.154421994809873)\n",
            "(78.6685633848612, 13.42648195272544)\n",
            "(78.53625708568862, 13.398857569739622)\n",
            "(78.41007188651287, 13.159892406141664)\n",
            "(78.15656917243544, 12.826418155727978)\n",
            "(78.74163931502379, 12.780724791715844)\n",
            "(77.9756836721797, 13.447137548045394)\n",
            "(77.8583194257387, 12.642488191446043)\n",
            "(77.8488947210855, 12.928129788553226)\n",
            "(78.76999819878446, 13.123839871754672)\n",
            "(78.44728713133662, 13.154421994809873)\n",
            "(78.6685633848612, 13.42648195272544)\n",
            "(78.53625708568862, 13.398857569739622)\n",
            "(78.41007188651287, 13.159892406141664)\n",
            "(78.169262877989, 12.943299752553477)\n",
            "(77.7994095802345, 13.250209556948095)\n",
            "(78.57798737384012, 13.462643786283277)\n",
            "(77.87842382412622, 12.947734187724361)\n",
            "(78.68936705994774, 12.825229998267766)\n",
            "(78.77055444739162, 13.150686995360534)\n",
            "(78.45344799590428, 13.164854821349767)\n",
            "(78.66847093476, 13.280290803137229)\n",
            "(78.53649752776545, 13.269604511017766)\n",
            "(78.41499640774569, 13.032876827463642)\n",
            "(78.15656917243544, 12.826418155727978)\n",
            "(78.74163931502379, 12.780724791715844)\n",
            "(77.9756836721797, 13.447137548045394)\n",
            "(77.8583194257387, 12.642488191446043)\n",
            "(77.8488947210855, 12.928129788553226)\n",
            "(78.76999819878446, 13.123839871754672)\n",
            "(78.44728713133662, 13.154421994809873)\n",
            "(78.6685633848612, 13.42648195272544)\n",
            "(78.53625708568862, 13.398857569739622)\n",
            "(78.41007188651287, 13.159892406141664)\n",
            "(78.15656917243544, 12.826418155727978)\n",
            "(78.74163931502379, 12.780724791715844)\n",
            "(77.9756836721797, 13.447137548045394)\n",
            "(77.8583194257387, 12.642488191446043)\n",
            "(77.8488947210855, 12.928129788553226)\n",
            "(78.76999819878446, 13.123839871754672)\n",
            "(78.44728713133662, 13.154421994809873)\n",
            "(78.6685633848612, 13.42648195272544)\n",
            "(78.53625708568862, 13.398857569739622)\n",
            "(78.41007188651287, 13.159892406141664)\n",
            "(78.15656917243544, 12.826418155727978)\n",
            "(78.74163931502379, 12.780724791715844)\n",
            "(77.9756836721797, 13.447137548045394)\n",
            "(77.8583194257387, 12.642488191446043)\n",
            "(77.8488947210855, 12.928129788553226)\n",
            "(78.76999819878446, 13.123839871754672)\n",
            "(78.44728713133662, 13.154421994809873)\n",
            "(78.6685633848612, 13.42648195272544)\n",
            "(78.53625708568862, 13.398857569739622)\n",
            "(78.41007188651287, 13.159892406141664)\n",
            "(78.15656917243544, 12.826418155727978)\n",
            "(78.74163931502379, 12.780724791715844)\n",
            "(77.9756836721797, 13.447137548045394)\n",
            "(77.8583194257387, 12.642488191446043)\n",
            "(77.8488947210855, 12.928129788553226)\n",
            "(78.76999819878446, 13.123839871754672)\n",
            "(78.44728713133662, 13.154421994809873)\n",
            "(78.6685633848612, 13.42648195272544)\n",
            "(78.53625708568862, 13.398857569739622)\n",
            "(78.41007188651287, 13.159892406141664)\n",
            "(78.15656917243544, 12.826418155727978)\n",
            "(78.74163931502379, 12.780724791715844)\n",
            "(77.9756836721797, 13.447137548045394)\n",
            "(77.8583194257387, 12.642488191446043)\n",
            "(77.8488947210855, 12.928129788553226)\n",
            "(78.76999819878446, 13.123839871754672)\n",
            "(78.44728713133662, 13.154421994809873)\n",
            "(78.6685633848612, 13.42648195272544)\n",
            "(78.53625708568862, 13.398857569739622)\n",
            "(78.41007188651287, 13.159892406141664)\n",
            "(78.15656917243544, 12.826418155727978)\n",
            "(78.74163931502379, 12.780724791715844)\n",
            "(77.9756836721797, 13.447137548045394)\n",
            "(77.8583194257387, 12.642488191446043)\n",
            "(77.8488947210855, 12.928129788553226)\n",
            "(78.76999819878446, 13.123839871754672)\n",
            "(78.44728713133662, 13.154421994809873)\n",
            "(78.6685633848612, 13.42648195272544)\n",
            "(78.53625708568862, 13.398857569739622)\n",
            "(78.41007188651287, 13.159892406141664)\n",
            "(78.15656917243544, 12.826418155727978)\n",
            "(78.74163931502379, 12.780724791715844)\n",
            "(77.9756836721797, 13.447137548045394)\n",
            "(77.8583194257387, 12.642488191446043)\n",
            "(77.8488947210855, 12.928129788553226)\n",
            "(78.76999819878446, 13.123839871754672)\n",
            "(78.44728713133662, 13.154421994809873)\n",
            "(78.6685633848612, 13.42648195272544)\n",
            "(78.53625708568862, 13.398857569739622)\n",
            "(78.41007188651287, 13.159892406141664)\n",
            "(78.15656917243544, 12.826418155727978)\n",
            "(78.74163931502379, 12.780724791715844)\n",
            "(77.9756836721797, 13.447137548045394)\n",
            "(77.8583194257387, 12.642488191446043)\n",
            "(77.8488947210855, 12.928129788553226)\n",
            "(78.76999819878446, 13.123839871754672)\n",
            "(78.44728713133662, 13.154421994809873)\n",
            "(78.6685633848612, 13.42648195272544)\n",
            "(78.53625708568862, 13.398857569739622)\n",
            "(78.41007188651287, 13.159892406141664)\n",
            "(78.15656917243544, 12.826418155727978)\n",
            "(78.74163931502379, 12.780724791715844)\n",
            "(77.9756836721797, 13.447137548045394)\n",
            "(77.8583194257387, 12.642488191446043)\n",
            "(77.8488947210855, 12.928129788553226)\n",
            "(78.76999819878446, 13.123839871754672)\n",
            "(78.44728713133662, 13.154421994809873)\n",
            "(78.6685633848612, 13.42648195272544)\n",
            "(78.53625708568862, 13.398857569739622)\n",
            "(78.41007188651287, 13.159892406141664)\n",
            "(78.15656917243544, 12.826418155727978)\n",
            "(78.74163931502379, 12.780724791715844)\n",
            "(77.9756836721797, 13.447137548045394)\n",
            "(77.8583194257387, 12.642488191446043)\n",
            "(77.8488947210855, 12.928129788553226)\n",
            "(78.76999819878446, 13.123839871754672)\n",
            "(78.44728713133662, 13.154421994809873)\n",
            "(78.6685633848612, 13.42648195272544)\n",
            "(78.53625708568862, 13.398857569739622)\n",
            "(78.41007188651287, 13.159892406141664)\n",
            "(78.15656917243544, 12.826418155727978)\n",
            "(78.74163931502379, 12.780724791715844)\n",
            "(77.9756836721797, 13.447137548045394)\n",
            "(77.8583194257387, 12.642488191446043)\n",
            "(77.8488947210855, 12.928129788553226)\n",
            "(78.76999819878446, 13.123839871754672)\n",
            "(78.44728713133662, 13.154421994809873)\n",
            "(78.6685633848612, 13.42648195272544)\n",
            "(78.53625708568862, 13.398857569739622)\n",
            "(78.41007188651287, 13.159892406141664)\n"
          ]
        }
      ],
      "source": [
        "for coord in coordinates:\n",
        "  comma_pos = 1\n",
        "  for i, chr in enumerate(coord[31:]):\n",
        "    if chr == ',':\n",
        "      comma_pos = i\n",
        "      break\n",
        "  \n",
        "  x = float(coord[31:31+ comma_pos])\n",
        "  x_coordinates.append(x)\n",
        "  y = float(coord[32+ comma_pos:-2])\n",
        "  y_coordinates.append(y)\n",
        "  print((x, y))\n",
        "  if is_inside_polygon(polygon1, (x, y)):\n",
        "    poly1_coordinates.append((x, y))\n",
        "  elif is_inside_polygon(polygon2, (x, y)):\n",
        "    poly2_coordinates.append((x, y))"
      ]
    },
    {
      "cell_type": "code",
      "execution_count": 11,
      "metadata": {
        "id": "vqaRCcX5jkeV"
      },
      "outputs": [],
      "source": [
        "x_poly1 = []\n",
        "y_poly1 = []\n",
        "for coord in polygon1:\n",
        "  x, y = coord\n",
        "  x_poly1.append(x)\n",
        "  y_poly1.append(y) "
      ]
    },
    {
      "cell_type": "code",
      "execution_count": 12,
      "metadata": {
        "colab": {
          "base_uri": "https://localhost:8080/"
        },
        "id": "Wvd9ClR7j4uj",
        "outputId": "fbd0f3cb-7d85-4448-e830-76d9d1f19493"
      },
      "outputs": [
        {
          "name": "stdout",
          "output_type": "stream",
          "text": [
            "[(78.19440501392705, 13.13144792604561), (78.20191022097467, 13.13144792604561), (78.20191022097467, 13.13765235639166), (78.19440501392705, 13.13765235639166), (78.19440501392705, 13.13144792604561)]\n",
            "[78.19440501392705, 78.20191022097467, 78.20191022097467, 78.19440501392705, 78.19440501392705]\n"
          ]
        }
      ],
      "source": [
        "print(polygon1)\n",
        "print(x_poly1)"
      ]
    },
    {
      "cell_type": "code",
      "execution_count": 13,
      "metadata": {
        "colab": {
          "base_uri": "https://localhost:8080/"
        },
        "id": "1zAJPAa3kBst",
        "outputId": "8fd55522-9c8f-4f08-f75c-c077856b8b0f"
      },
      "outputs": [
        {
          "name": "stdout",
          "output_type": "stream",
          "text": [
            "[13.13144792604561, 13.13144792604561, 13.13765235639166, 13.13765235639166, 13.13144792604561]\n"
          ]
        }
      ],
      "source": [
        "print(y_poly1)"
      ]
    },
    {
      "cell_type": "code",
      "execution_count": 18,
      "metadata": {
        "id": "YI2aUviEjV5b"
      },
      "outputs": [
        {
          "name": "stdout",
          "output_type": "stream",
          "text": [
            "220\n"
          ]
        },
        {
          "data": {
            "image/png": "[encoded data removed]",
            "text/plain": [
              "<Figure size 432x288 with 1 Axes>"
            ]
          },
          "metadata": {
            "needs_background": "light"
          },
          "output_type": "display_data"
        },
        {
          "data": {
            "text/plain": [
              "<Figure size 7200x7200 with 0 Axes>"
            ]
          },
          "metadata": {},
          "output_type": "display_data"
        }
      ],
      "source": [
        "# for i in range(len(x_coordinates)):\n",
        "  # plt.scatter(x_coordinates[i], y_coordinates[i])\n",
        "  # plt.plot(x_poly1, y_poly1)\n",
        "  # plt.show()\n",
        "print(len(x_coordinates))\n",
        "plt.scatter(x_coordinates, y_coordinates)\n",
        "plt.plot(x_poly1, y_poly1,color = 'red')\n",
        "plt.figure(figsize=(100, 100))\n",
        "plt.show()"
      ]
    },
    {
      "cell_type": "code",
      "execution_count": 15,
      "metadata": {
        "colab": {
          "base_uri": "https://localhost:8080/"
        },
        "id": "tQdpo8bBhZTB",
        "outputId": "15501678-5bc0-482a-d532-0fca171a0bfc"
      },
      "outputs": [
        {
          "name": "stdout",
          "output_type": "stream",
          "text": [
            "[]\n"
          ]
        }
      ],
      "source": [
        "print(poly1_coordinates)"
      ]
    },
    {
      "cell_type": "code",
      "execution_count": 16,
      "metadata": {
        "colab": {
          "base_uri": "https://localhost:8080/"
        },
        "id": "Q_jpYlk9i6U_",
        "outputId": "f4d61ceb-a0cb-4bbf-f421-433760ec711f"
      },
      "outputs": [
        {
          "name": "stdout",
          "output_type": "stream",
          "text": [
            "[]\n"
          ]
        }
      ],
      "source": [
        "print(poly2_coordinates)"
      ]
    },
    {
      "cell_type": "code",
      "execution_count": null,
      "metadata": {
        "id": "zwvzaToxhW3L"
      },
      "outputs": [],
      "source": []
    },
    {
      "cell_type": "code",
      "execution_count": 17,
      "metadata": {
        "colab": {
          "base_uri": "https://localhost:8080/"
        },
        "id": "0ErTTvQFfS6n",
        "outputId": "0f0711e3-547a-4b4a-d856-fde829143860"
      },
      "outputs": [
        {
          "name": "stdout",
          "output_type": "stream",
          "text": [
            "\n"
          ]
        }
      ],
      "source": [
        "print()"
      ]
    }
  ],
  "metadata": {
    "colab": {
      "provenance": []
    },
    "kernelspec": {
      "display_name": "Python 3.10.6 64-bit",
      "language": "python",
      "name": "python3"
    },
    "language_info": {
      "codemirror_mode": {
        "name": "ipython",
        "version": 3
      },
      "file_extension": ".py",
      "mimetype": "text/x-python",
      "name": "python",
      "nbconvert_exporter": "python",
      "pygments_lexer": "ipython3",
      "version": "3.10.6"
    },
    "vscode": {
      "interpreter": {
        "hash": "e7370f93d1d0cde622a1f8e1c04877d8463912d04d973331ad4851f04de6915a"
      }
    }
  },
  "nbformat": 4,
  "nbformat_minor": 0
}
