{
 "cells": [
  {
   "cell_type": "code",
   "execution_count": 13,
   "metadata": {},
   "outputs": [],
   "source": [
    "from dis import dis\n",
    "from osgeo import gdal\n",
    "import os, sys\n",
    "import imageio\n",
    "import numpy as np\n",
    "import pandas as pd\n",
    "# from PIL import Image\n",
    "\n",
    "# load GDAL (Geospatial Data Abstraction Library) driver for tiff files\n",
    "driver = gdal.GetDriverByName('GTiff')"
   ]
  },
  {
   "cell_type": "code",
   "execution_count": 14,
   "metadata": {},
   "outputs": [],
   "source": [
    "tif_name = \"./allanite_base.tif\"\n",
    "\n",
    "df = pd.read_csv('./Water Folder/Seasonal_for_tif.csv')\n",
    "\n",
    "final_name = \"MapFC.tif\"\n",
    "\n",
    "ds = gdal.Open(tif_name)\n",
    "# ds = gdal.Open(\"Months/sentinel2a_Jamui_2021_01.tif\")\n",
    "\n",
    "# TIFF to CSV \n",
    "# first option\n",
    "xyz = gdal.Translate(\"dem.xyz\", ds)\n",
    "xyz = None\n",
    "\n",
    "df1 = pd.read_csv(\"dem.xyz\", sep = \" \", header = None)\n",
    "df1.columns = [\"x\",\"y\", \"value\"]\n",
    "df1.drop('value', inplace=True, axis=1)"
   ]
  },
  {
   "cell_type": "code",
   "execution_count": 15,
   "metadata": {},
   "outputs": [],
   "source": [
    "def distance(a,b):\n",
    "    return (a[0] - b[0])**2 + (a[1] - b[1])**2"
   ]
  },
  {
   "cell_type": "code",
   "execution_count": 16,
   "metadata": {},
   "outputs": [],
   "source": [
    "\n",
    "\n",
    "dall = df1.copy()\n",
    "\n",
    "\n",
    "# df['x'] = df['geo']\n",
    "# df_all = pd.read_csv('map.csv')\n",
    "# df.drop('index', inplace=True, axis=1)\n",
    "\n",
    "# dall = pd.merge(df1, df, how=\"left\",left_on=['x','y'], right_on = ['x','y'])\n",
    "\n",
    "# df['ax'] = round(df['x'],4)\n",
    "# df1['ax'] = round(df1['x'],4)\n",
    "\n",
    "# df['xy'] = list(zip(df.x, df.y))\n",
    "# df1['xy'] = list(zip(df1.x, df1.y))\n",
    "\n",
    "# dall = pd.merge_asof(df1,df,on='xy')\n",
    "\n",
    "# dall.fillna(0)\n",
    "\n",
    "\n",
    "tif_xy_pair = list(zip(df1.x, df1.y))\n",
    "\n",
    "for index,row in df.iterrows():\n",
    "    \n",
    "    nearest_index = tif_xy_pair.index(min(tif_xy_pair, key=lambda x: distance(x, (row['x'],row['y']))))\n",
    "    \n",
    "    dall.loc[nearest_index,'value'] = row['value']\n",
    "    \n",
    "    # dall.loc[dall['x'] == row['x'] & (round(dall['y'],3) == round(row['y'],3))  , ['value']] = row['value']\n",
    "    # dall.loc[(round(dall['x'],3) == round(row['x'],3)) & (round(dall['y'],3) == round(row['y'],3))  , ['value']] = row['value']\n",
    "    # print((round(dall['x'],3) == round(row['x'],3)))\n",
    "    # print(row['value'])\n",
    "\n",
    "\n",
    "dall['value'] = dall['value'].fillna(0)\n",
    "# dall['value'] = np.random.randint(0, 7, dall.shape[0])"
   ]
  },
  {
   "cell_type": "code",
   "execution_count": 17,
   "metadata": {},
   "outputs": [],
   "source": [
    "\n",
    "dall.to_csv(\"map.xyz\", index = False, header = None, sep = \" \")\n",
    "demn = gdal.Translate(\"map.tif\", \"map.xyz\")\n",
    "demn = None"
   ]
  },
  {
   "cell_type": "code",
   "execution_count": 18,
   "metadata": {},
   "outputs": [
    {
     "data": {
      "text/html": [
       "<div>\n",
       "<style scoped>\n",
       "    .dataframe tbody tr th:only-of-type {\n",
       "        vertical-align: middle;\n",
       "    }\n",
       "\n",
       "    .dataframe tbody tr th {\n",
       "        vertical-align: top;\n",
       "    }\n",
       "\n",
       "    .dataframe thead th {\n",
       "        text-align: right;\n",
       "    }\n",
       "</style>\n",
       "<table border=\"1\" class=\"dataframe\">\n",
       "  <thead>\n",
       "    <tr style=\"text-align: right;\">\n",
       "      <th></th>\n",
       "      <th>x</th>\n",
       "      <th>y</th>\n",
       "      <th>value</th>\n",
       "    </tr>\n",
       "  </thead>\n",
       "  <tbody>\n",
       "    <tr>\n",
       "      <th>0</th>\n",
       "      <td>76.706308</td>\n",
       "      <td>12.284713</td>\n",
       "      <td>0</td>\n",
       "    </tr>\n",
       "    <tr>\n",
       "      <th>1</th>\n",
       "      <td>76.706583</td>\n",
       "      <td>12.284711</td>\n",
       "      <td>0</td>\n",
       "    </tr>\n",
       "    <tr>\n",
       "      <th>2</th>\n",
       "      <td>76.706859</td>\n",
       "      <td>12.284709</td>\n",
       "      <td>0</td>\n",
       "    </tr>\n",
       "    <tr>\n",
       "      <th>3</th>\n",
       "      <td>76.707135</td>\n",
       "      <td>12.284708</td>\n",
       "      <td>0</td>\n",
       "    </tr>\n",
       "    <tr>\n",
       "      <th>4</th>\n",
       "      <td>76.707411</td>\n",
       "      <td>12.284706</td>\n",
       "      <td>0</td>\n",
       "    </tr>\n",
       "    <tr>\n",
       "      <th>...</th>\n",
       "      <td>...</td>\n",
       "      <td>...</td>\n",
       "      <td>...</td>\n",
       "    </tr>\n",
       "    <tr>\n",
       "      <th>68</th>\n",
       "      <td>76.707121</td>\n",
       "      <td>12.282538</td>\n",
       "      <td>1</td>\n",
       "    </tr>\n",
       "    <tr>\n",
       "      <th>69</th>\n",
       "      <td>76.707397</td>\n",
       "      <td>12.282536</td>\n",
       "      <td>1</td>\n",
       "    </tr>\n",
       "    <tr>\n",
       "      <th>70</th>\n",
       "      <td>76.707672</td>\n",
       "      <td>12.282535</td>\n",
       "      <td>0</td>\n",
       "    </tr>\n",
       "    <tr>\n",
       "      <th>71</th>\n",
       "      <td>76.707948</td>\n",
       "      <td>12.282533</td>\n",
       "      <td>0</td>\n",
       "    </tr>\n",
       "    <tr>\n",
       "      <th>72</th>\n",
       "      <td>76.708224</td>\n",
       "      <td>12.282531</td>\n",
       "      <td>0</td>\n",
       "    </tr>\n",
       "  </tbody>\n",
       "</table>\n",
       "<p>73 rows × 3 columns</p>\n",
       "</div>"
      ],
      "text/plain": [
       "            x          y  value\n",
       "0   76.706308  12.284713      0\n",
       "1   76.706583  12.284711      0\n",
       "2   76.706859  12.284709      0\n",
       "3   76.707135  12.284708      0\n",
       "4   76.707411  12.284706      0\n",
       "..        ...        ...    ...\n",
       "68  76.707121  12.282538      1\n",
       "69  76.707397  12.282536      1\n",
       "70  76.707672  12.282535      0\n",
       "71  76.707948  12.282533      0\n",
       "72  76.708224  12.282531      0\n",
       "\n",
       "[73 rows x 3 columns]"
      ]
     },
     "execution_count": 18,
     "metadata": {},
     "output_type": "execute_result"
    }
   ],
   "source": [
    "df"
   ]
  },
  {
   "cell_type": "code",
   "execution_count": 19,
   "metadata": {},
   "outputs": [
    {
     "data": {
      "text/markdown": [
       "Kharif Rabi Zaid <span style=\"color: #ffffff;background-color: #ffffff\">color-indicator</span>"
      ],
      "text/plain": [
       "<IPython.core.display.Markdown object>"
      ]
     },
     "metadata": {},
     "output_type": "display_data"
    },
    {
     "data": {
      "text/markdown": [
       "Kharif Rabi ____ <span style=\"color: #00ffff;background-color: #00ffff\">color-indicator</span>"
      ],
      "text/plain": [
       "<IPython.core.display.Markdown object>"
      ]
     },
     "metadata": {},
     "output_type": "display_data"
    },
    {
     "data": {
      "text/markdown": [
       "Kharif ____ Zaid <span style=\"color: #ff00ff;background-color: #ff00ff\">color-indicator</span>"
      ],
      "text/plain": [
       "<IPython.core.display.Markdown object>"
      ]
     },
     "metadata": {},
     "output_type": "display_data"
    },
    {
     "data": {
      "text/markdown": [
       "______ Rabi Zaid <span style=\"color: #ffff00;background-color: #ffff00\">color-indicator</span>"
      ],
      "text/plain": [
       "<IPython.core.display.Markdown object>"
      ]
     },
     "metadata": {},
     "output_type": "display_data"
    },
    {
     "data": {
      "text/markdown": [
       "Kharif ____ ____ <span style=\"color: #0000ff;background-color: #0000ff\">color-indicator</span>"
      ],
      "text/plain": [
       "<IPython.core.display.Markdown object>"
      ]
     },
     "metadata": {},
     "output_type": "display_data"
    },
    {
     "data": {
      "text/markdown": [
       "______ Rabi ____ <span style=\"color: #00ff00;background-color: #00ff00\">color-indicator</span>"
      ],
      "text/plain": [
       "<IPython.core.display.Markdown object>"
      ]
     },
     "metadata": {},
     "output_type": "display_data"
    },
    {
     "data": {
      "text/markdown": [
       "______ ____ Zaid <span style=\"color: #ff0000;background-color: #ff0000\">color-indicator</span>"
      ],
      "text/plain": [
       "<IPython.core.display.Markdown object>"
      ]
     },
     "metadata": {},
     "output_type": "display_data"
    }
   ],
   "source": [
    "from IPython.display import Markdown\n",
    "display (Markdown('Kharif Rabi Zaid <span style=\"color: #ffffff;background-color: #ffffff\">color-indicator</span>'))\n",
    "display (Markdown('Kharif Rabi ____ <span style=\"color: #00ffff;background-color: #00ffff\">color-indicator</span>'))\n",
    "display (Markdown('Kharif ____ Zaid <span style=\"color: #ff00ff;background-color: #ff00ff\">color-indicator</span>'))\n",
    "display (Markdown('______ Rabi Zaid <span style=\"color: #ffff00;background-color: #ffff00\">color-indicator</span>'))\n",
    "display (Markdown('Kharif ____ ____ <span style=\"color: #0000ff;background-color: #0000ff\">color-indicator</span>'))\n",
    "display (Markdown('______ Rabi ____ <span style=\"color: #00ff00;background-color: #00ff00\">color-indicator</span>'))\n",
    "display (Markdown('______ ____ Zaid <span style=\"color: #ff0000;background-color: #ff0000\">color-indicator</span>'))"
   ]
  },
  {
   "cell_type": "code",
   "execution_count": 20,
   "metadata": {},
   "outputs": [],
   "source": [
    "mimg = gdal.Open('map.tif')\n",
    "cimg = gdal.Open(tif_name)\n"
   ]
  },
  {
   "cell_type": "code",
   "execution_count": 21,
   "metadata": {},
   "outputs": [
    {
     "name": "stdout",
     "output_type": "stream",
     "text": [
      "[[0 0 0 0 0 0 0 0 0 0]\n",
      " [0 0 0 0 0 0 2 0 0 0]\n",
      " [0 0 0 0 0 0 0 0 0 0]\n",
      " [0 0 0 2 2 2 0 0 0 0]\n",
      " [0 0 0 2 3 2 2 0 0 0]\n",
      " [0 0 2 2 2 3 2 2 0 0]\n",
      " [0 0 2 3 3 3 2 2 2 0]\n",
      " [0 2 3 3 3 3 2 0 0 0]\n",
      " [0 0 3 3 1 1 0 0 0 0]\n",
      " [0 0 0 0 0 0 0 0 0 0]]\n",
      "[0 1 2 3]\n"
     ]
    }
   ],
   "source": [
    "pixel_predictions = (mimg.GetRasterBand(1)).ReadAsArray()\n",
    "print(pixel_predictions)\n",
    "op = (cimg.GetRasterBand(1)).ReadAsArray()\n",
    "[cols, rows] = op.shape\n",
    "\n",
    "print(np.unique(pixel_predictions))"
   ]
  },
  {
   "cell_type": "code",
   "execution_count": 22,
   "metadata": {},
   "outputs": [],
   "source": [
    "dst_ds = driver.Create(final_name, rows, cols, 1, gdal.GDT_UInt16)\n",
    "dst_ds.SetGeoTransform(cimg.GetGeoTransform())\n",
    "dst_ds.SetProjection(cimg.GetProjection())\n",
    "dst_ds.GetRasterBand(1).WriteArray((mimg.GetRasterBand(1)).ReadAsArray())\n",
    "# dst_ds.GetRasterBand(2).WriteArray((mimg.GetRasterBand(2)).ReadAsArray())\n",
    "# dst_ds.GetRasterBand(3).WriteArray((mimg.GetRasterBand(3)).ReadAsArray())\n",
    "dst_ds.FlushCache()\n",
    "\n",
    "\n",
    "\n",
    "band = dst_ds.GetRasterBand(1)\n",
    "\n",
    "#making color\n",
    "colors = gdal.ColorTable()\n",
    "\n",
    "colors.SetColorEntry(0, (0, 0, 0))\n",
    "colors.SetColorEntry(1, (255, 0, 0))\n",
    "colors.SetColorEntry(2, (0, 255, 0))\n",
    "colors.SetColorEntry(3, (255, 255, 0))\n",
    "colors.SetColorEntry(4, (0, 0, 255))\n",
    "colors.SetColorEntry(5, (255, 0, 255))\n",
    "colors.SetColorEntry(6, (0,255, 255))\n",
    "colors.SetColorEntry(7, (255,255, 255))\n",
    "\n",
    "# colors.SetColorEntry(4, (194, 140, 124))\n",
    "# colors.SetColorEntry(5, (214, 193, 156))\n",
    "\n",
    "# # Change RBG for different colors\n",
    "# colors.CreateColorRamp(0, (255, 0, 0), 126, (0, 0, 255))\n",
    "# colors.CreateColorRamp(126, (0, 0, 255) , 252, (0, 0, 0))\n",
    "\n",
    "band.SetRasterColorTable(colors)\n",
    "band.SetRasterColorInterpretation(gdal.GCI_PaletteIndex)\n",
    "\n",
    "del band, dst_ds\n"
   ]
  },
  {
   "cell_type": "code",
   "execution_count": null,
   "metadata": {},
   "outputs": [],
   "source": []
  },
  {
   "cell_type": "code",
   "execution_count": null,
   "metadata": {},
   "outputs": [],
   "source": [
    "\n",
    "\n"
   ]
  },
  {
   "cell_type": "code",
   "execution_count": null,
   "metadata": {},
   "outputs": [],
   "source": []
  }
 ],
 "metadata": {
  "kernelspec": {
   "display_name": "Python 3.10.6 64-bit",
   "language": "python",
   "name": "python3"
  },
  "language_info": {
   "codemirror_mode": {
    "name": "ipython",
    "version": 3
   },
   "file_extension": ".py",
   "mimetype": "text/x-python",
   "name": "python",
   "nbconvert_exporter": "python",
   "pygments_lexer": "ipython3",
   "version": "3.10.6"
  },
  "orig_nbformat": 4,
  "vscode": {
   "interpreter": {
    "hash": "e7370f93d1d0cde622a1f8e1c04877d8463912d04d973331ad4851f04de6915a"
   }
  }
 },
 "nbformat": 4,
 "nbformat_minor": 2
}
