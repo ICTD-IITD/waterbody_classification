{
 "cells": [
  {
   "cell_type": "code",
   "execution_count": 76,
   "metadata": {},
   "outputs": [],
   "source": [
    "import pandas as pd\n",
    "from osgeo import gdal\n",
    "\n",
    "import numpy as np  \n",
    "\n"
   ]
  },
  {
   "cell_type": "code",
   "execution_count": 77,
   "metadata": {},
   "outputs": [
    {
     "name": "stderr",
     "output_type": "stream",
     "text": [
      "Warning 6: XYZ driver only uses the first band of the dataset.\n",
      "\n"
     ]
    }
   ],
   "source": [
    "ds = gdal.Open(\"perennial_2_tile.tif\")\n",
    "# ds = gdal.Open(\"Months/sentinel2a_Jamui_2021_01.tif\")\n",
    "\n",
    "# TIFF to CSV \n",
    "# first option\n",
    "xyz = gdal.Translate(\"dem.xyz\", ds)\n",
    "xyz = None\n",
    "\n",
    "df1 = pd.read_csv(\"dem.xyz\", sep = \" \", header = None)\n",
    "df1.columns = [\"x\",\"y\", \"value\"]\n",
    "df1.drop('value', inplace=True, axis=1)"
   ]
  },
  {
   "cell_type": "code",
   "execution_count": 78,
   "metadata": {},
   "outputs": [],
   "source": [
    "# df"
   ]
  },
  {
   "cell_type": "code",
   "execution_count": 79,
   "metadata": {},
   "outputs": [
    {
     "data": {
      "text/html": [
       "<div>\n",
       "<style scoped>\n",
       "    .dataframe tbody tr th:only-of-type {\n",
       "        vertical-align: middle;\n",
       "    }\n",
       "\n",
       "    .dataframe tbody tr th {\n",
       "        vertical-align: top;\n",
       "    }\n",
       "\n",
       "    .dataframe thead th {\n",
       "        text-align: right;\n",
       "    }\n",
       "</style>\n",
       "<table border=\"1\" class=\"dataframe\">\n",
       "  <thead>\n",
       "    <tr style=\"text-align: right;\">\n",
       "      <th></th>\n",
       "      <th>x</th>\n",
       "      <th>y</th>\n",
       "      <th>value</th>\n",
       "    </tr>\n",
       "  </thead>\n",
       "  <tbody>\n",
       "    <tr>\n",
       "      <th>0</th>\n",
       "      <td>86.012835</td>\n",
       "      <td>24.872868</td>\n",
       "      <td>0.0</td>\n",
       "    </tr>\n",
       "    <tr>\n",
       "      <th>1</th>\n",
       "      <td>86.013105</td>\n",
       "      <td>24.872868</td>\n",
       "      <td>0.0</td>\n",
       "    </tr>\n",
       "    <tr>\n",
       "      <th>2</th>\n",
       "      <td>86.013374</td>\n",
       "      <td>24.872868</td>\n",
       "      <td>0.0</td>\n",
       "    </tr>\n",
       "    <tr>\n",
       "      <th>3</th>\n",
       "      <td>86.013644</td>\n",
       "      <td>24.872868</td>\n",
       "      <td>7.0</td>\n",
       "    </tr>\n",
       "    <tr>\n",
       "      <th>4</th>\n",
       "      <td>86.013913</td>\n",
       "      <td>24.872868</td>\n",
       "      <td>7.0</td>\n",
       "    </tr>\n",
       "  </tbody>\n",
       "</table>\n",
       "</div>"
      ],
      "text/plain": [
       "           x          y  value\n",
       "0  86.012835  24.872868    0.0\n",
       "1  86.013105  24.872868    0.0\n",
       "2  86.013374  24.872868    0.0\n",
       "3  86.013644  24.872868    7.0\n",
       "4  86.013913  24.872868    7.0"
      ]
     },
     "execution_count": 79,
     "metadata": {},
     "output_type": "execute_result"
    }
   ],
   "source": [
    "df = pd.read_csv('./Water Folder/Perennial_for_tif.csv')\n",
    "\n",
    "dall = df1.copy()\n",
    "\n",
    "\n",
    "# df['x'] = df['geo']\n",
    "# df_all = pd.read_csv('map.csv')\n",
    "# df.drop('index', inplace=True, axis=1)\n",
    "\n",
    "# dall = pd.merge(df1, df, how=\"left\",left_on=['x','y'], right_on = ['x','y'])\n",
    "\n",
    "# df['xy'] = list(zip(df.x, df.y))\n",
    "# df1['xy'] = list(zip(df1.x, df1.y))\n",
    "\n",
    "# dall = pd.merge_asof(df1,df,on='xy')\n",
    "\n",
    "# dall.fillna(0)\n",
    "\n",
    "for index,row in df.iterrows():\n",
    "    dall.loc[(round(dall['x'],3) == round(row['x'],3)) & (round(dall['y'],3) == round(row['y'],3))  , ['value']] = row['value']\n",
    "    # print((round(dall['x'],3) == round(row['x'],3)))\n",
    "    # print(row['value'])\n",
    "\n",
    "\n",
    "dall['value'] = dall['value'].fillna(0)\n",
    "\n",
    "dall.head()"
   ]
  },
  {
   "cell_type": "code",
   "execution_count": 80,
   "metadata": {},
   "outputs": [
    {
     "data": {
      "text/html": [
       "<div>\n",
       "<style scoped>\n",
       "    .dataframe tbody tr th:only-of-type {\n",
       "        vertical-align: middle;\n",
       "    }\n",
       "\n",
       "    .dataframe tbody tr th {\n",
       "        vertical-align: top;\n",
       "    }\n",
       "\n",
       "    .dataframe thead th {\n",
       "        text-align: right;\n",
       "    }\n",
       "</style>\n",
       "<table border=\"1\" class=\"dataframe\">\n",
       "  <thead>\n",
       "    <tr style=\"text-align: right;\">\n",
       "      <th></th>\n",
       "      <th>x</th>\n",
       "      <th>y</th>\n",
       "      <th>value</th>\n",
       "    </tr>\n",
       "  </thead>\n",
       "  <tbody>\n",
       "    <tr>\n",
       "      <th>0</th>\n",
       "      <td>86.013976</td>\n",
       "      <td>24.872541</td>\n",
       "      <td>7</td>\n",
       "    </tr>\n",
       "    <tr>\n",
       "      <th>1</th>\n",
       "      <td>86.014273</td>\n",
       "      <td>24.872543</td>\n",
       "      <td>7</td>\n",
       "    </tr>\n",
       "    <tr>\n",
       "      <th>2</th>\n",
       "      <td>86.014570</td>\n",
       "      <td>24.872545</td>\n",
       "      <td>7</td>\n",
       "    </tr>\n",
       "    <tr>\n",
       "      <th>3</th>\n",
       "      <td>86.013384</td>\n",
       "      <td>24.872266</td>\n",
       "      <td>7</td>\n",
       "    </tr>\n",
       "    <tr>\n",
       "      <th>4</th>\n",
       "      <td>86.013681</td>\n",
       "      <td>24.872268</td>\n",
       "      <td>7</td>\n",
       "    </tr>\n",
       "  </tbody>\n",
       "</table>\n",
       "</div>"
      ],
      "text/plain": [
       "           x          y  value\n",
       "0  86.013976  24.872541      7\n",
       "1  86.014273  24.872543      7\n",
       "2  86.014570  24.872545      7\n",
       "3  86.013384  24.872266      7\n",
       "4  86.013681  24.872268      7"
      ]
     },
     "execution_count": 80,
     "metadata": {},
     "output_type": "execute_result"
    }
   ],
   "source": [
    "df.head()"
   ]
  },
  {
   "cell_type": "code",
   "execution_count": 81,
   "metadata": {},
   "outputs": [
    {
     "data": {
      "text/html": [
       "<div>\n",
       "<style scoped>\n",
       "    .dataframe tbody tr th:only-of-type {\n",
       "        vertical-align: middle;\n",
       "    }\n",
       "\n",
       "    .dataframe tbody tr th {\n",
       "        vertical-align: top;\n",
       "    }\n",
       "\n",
       "    .dataframe thead th {\n",
       "        text-align: right;\n",
       "    }\n",
       "</style>\n",
       "<table border=\"1\" class=\"dataframe\">\n",
       "  <thead>\n",
       "    <tr style=\"text-align: right;\">\n",
       "      <th></th>\n",
       "      <th>x</th>\n",
       "      <th>y</th>\n",
       "    </tr>\n",
       "  </thead>\n",
       "  <tbody>\n",
       "    <tr>\n",
       "      <th>0</th>\n",
       "      <td>86.012835</td>\n",
       "      <td>24.872868</td>\n",
       "    </tr>\n",
       "    <tr>\n",
       "      <th>1</th>\n",
       "      <td>86.013105</td>\n",
       "      <td>24.872868</td>\n",
       "    </tr>\n",
       "    <tr>\n",
       "      <th>2</th>\n",
       "      <td>86.013374</td>\n",
       "      <td>24.872868</td>\n",
       "    </tr>\n",
       "    <tr>\n",
       "      <th>3</th>\n",
       "      <td>86.013644</td>\n",
       "      <td>24.872868</td>\n",
       "    </tr>\n",
       "    <tr>\n",
       "      <th>4</th>\n",
       "      <td>86.013913</td>\n",
       "      <td>24.872868</td>\n",
       "    </tr>\n",
       "    <tr>\n",
       "      <th>...</th>\n",
       "      <td>...</td>\n",
       "      <td>...</td>\n",
       "    </tr>\n",
       "    <tr>\n",
       "      <th>190</th>\n",
       "      <td>86.015530</td>\n",
       "      <td>24.869634</td>\n",
       "    </tr>\n",
       "    <tr>\n",
       "      <th>191</th>\n",
       "      <td>86.015799</td>\n",
       "      <td>24.869634</td>\n",
       "    </tr>\n",
       "    <tr>\n",
       "      <th>192</th>\n",
       "      <td>86.016069</td>\n",
       "      <td>24.869634</td>\n",
       "    </tr>\n",
       "    <tr>\n",
       "      <th>193</th>\n",
       "      <td>86.016338</td>\n",
       "      <td>24.869634</td>\n",
       "    </tr>\n",
       "    <tr>\n",
       "      <th>194</th>\n",
       "      <td>86.016608</td>\n",
       "      <td>24.869634</td>\n",
       "    </tr>\n",
       "  </tbody>\n",
       "</table>\n",
       "<p>195 rows × 2 columns</p>\n",
       "</div>"
      ],
      "text/plain": [
       "             x          y\n",
       "0    86.012835  24.872868\n",
       "1    86.013105  24.872868\n",
       "2    86.013374  24.872868\n",
       "3    86.013644  24.872868\n",
       "4    86.013913  24.872868\n",
       "..         ...        ...\n",
       "190  86.015530  24.869634\n",
       "191  86.015799  24.869634\n",
       "192  86.016069  24.869634\n",
       "193  86.016338  24.869634\n",
       "194  86.016608  24.869634\n",
       "\n",
       "[195 rows x 2 columns]"
      ]
     },
     "execution_count": 81,
     "metadata": {},
     "output_type": "execute_result"
    }
   ],
   "source": [
    "df1"
   ]
  },
  {
   "cell_type": "code",
   "execution_count": null,
   "metadata": {},
   "outputs": [],
   "source": []
  },
  {
   "cell_type": "code",
   "execution_count": 82,
   "metadata": {},
   "outputs": [],
   "source": [
    "# dall['value'] = dall['value']*126\n",
    "\n",
    "# dall['r'] = np.where(dall['value']=='0', '255', '0')\n",
    "# dall['g'] = 0\n",
    "# dall['b'] = np.where(dall['value']=='1', '255', '0')"
   ]
  },
  {
   "cell_type": "code",
   "execution_count": 83,
   "metadata": {},
   "outputs": [
    {
     "name": "stdout",
     "output_type": "stream",
     "text": [
      "             x          y  value\n",
      "0    86.012835  24.872868    0.0\n",
      "1    86.013105  24.872868    0.0\n",
      "2    86.013374  24.872868    0.0\n",
      "3    86.013644  24.872868    7.0\n",
      "4    86.013913  24.872868    7.0\n",
      "..         ...        ...    ...\n",
      "190  86.015530  24.869634    3.0\n",
      "191  86.015799  24.869634    3.0\n",
      "192  86.016069  24.869634    3.0\n",
      "193  86.016338  24.869634    3.0\n",
      "194  86.016608  24.869634    0.0\n",
      "\n",
      "[195 rows x 3 columns]\n"
     ]
    }
   ],
   "source": [
    "print(dall)\n"
   ]
  },
  {
   "cell_type": "code",
   "execution_count": 84,
   "metadata": {},
   "outputs": [],
   "source": [
    "# dall.drop('value', inplace=True, axis=1)"
   ]
  },
  {
   "cell_type": "code",
   "execution_count": 86,
   "metadata": {},
   "outputs": [],
   "source": [
    "\n",
    "dall.to_csv(\"map.xyz\", index = False, header = None, sep = \" \")\n",
    "demn = gdal.Translate(\"map.tif\", \"map.xyz\")\n",
    "demn = None"
   ]
  }
 ],
 "metadata": {
  "kernelspec": {
   "display_name": "Python 3.10.6 64-bit",
   "language": "python",
   "name": "python3"
  },
  "language_info": {
   "codemirror_mode": {
    "name": "ipython",
    "version": 3
   },
   "file_extension": ".py",
   "mimetype": "text/x-python",
   "name": "python",
   "nbconvert_exporter": "python",
   "pygments_lexer": "ipython3",
   "version": "3.10.6"
  },
  "orig_nbformat": 4,
  "vscode": {
   "interpreter": {
    "hash": "e7370f93d1d0cde622a1f8e1c04877d8463912d04d973331ad4851f04de6915a"
   }
  }
 },
 "nbformat": 4,
 "nbformat_minor": 2
}
