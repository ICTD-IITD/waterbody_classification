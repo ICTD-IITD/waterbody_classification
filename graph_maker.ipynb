{
 "cells": [
  {
   "cell_type": "code",
   "execution_count": 1,
   "metadata": {},
   "outputs": [],
   "source": [
    "from osgeo import gdal\n",
    "import pandas as pd\n",
    "import numpy as np\n",
    "import os\n",
    "import csv\n",
    "\n",
    "import matplotlib.pyplot as plt"
   ]
  },
  {
   "cell_type": "code",
   "execution_count": 2,
   "metadata": {},
   "outputs": [],
   "source": [
    "ds = gdal.Open(\"classes.tif\")\n",
    "\n",
    "xyz = gdal.Translate(\"dem.xyz\", ds)\n",
    "xyz = None\n",
    "\n",
    "df = pd.read_csv(\"dem.xyz\", sep = \" \", header = None)\n",
    "df.columns = [\"x\",\"y\", \"value\"]\n",
    "\n",
    "months =['01','02','03','04','05','09','10','11','12']\n",
    "\n",
    "for month in months:\n",
    "    ds = gdal.Open(f\"Months/sentinel2a_Jamui_2021_{month}.tif\") \n",
    "    ar = ds.GetRasterBand(1).ReadAsArray()\n",
    "    flat = ar.flatten()\n",
    "    df[month] = flat"
   ]
  },
  {
   "cell_type": "code",
   "execution_count": null,
   "metadata": {},
   "outputs": [],
   "source": []
  }
 ],
 "metadata": {
  "kernelspec": {
   "display_name": "Python 3.10.6 64-bit",
   "language": "python",
   "name": "python3"
  },
  "language_info": {
   "codemirror_mode": {
    "name": "ipython",
    "version": 3
   },
   "file_extension": ".py",
   "mimetype": "text/x-python",
   "name": "python",
   "nbconvert_exporter": "python",
   "pygments_lexer": "ipython3",
   "version": "3.10.6"
  },
  "orig_nbformat": 4,
  "vscode": {
   "interpreter": {
    "hash": "e7370f93d1d0cde622a1f8e1c04877d8463912d04d973331ad4851f04de6915a"
   }
  }
 },
 "nbformat": 4,
 "nbformat_minor": 2
}
