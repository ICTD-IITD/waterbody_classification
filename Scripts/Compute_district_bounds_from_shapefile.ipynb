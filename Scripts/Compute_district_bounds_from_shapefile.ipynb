{
 "cells": [
  {
   "cell_type": "code",
   "execution_count": 1,
   "metadata": {},
   "outputs": [],
   "source": [
    "'''\n",
    "This script is to fetch bounding box of each district from the all district boundary shapefile of India\n",
    "'''\n",
    "\n",
    "\n",
    "import geopandas as gpd\n",
    "from operator import itemgetter\n",
    "import pandas as pd"
   ]
  },
  {
   "cell_type": "code",
   "execution_count": 2,
   "metadata": {},
   "outputs": [],
   "source": [
    "shapefile_path = '../Datasets/india_district_boundaries/india_district_boundaries.shp'\n",
    "output_csv_path = '../Datasets/india_district_bounds.csv'\n"
   ]
  },
  {
   "cell_type": "code",
   "execution_count": 3,
   "metadata": {},
   "outputs": [
    {
     "name": "stdout",
     "output_type": "stream",
     "text": [
      "                district_name    min_lon    min_lat    max_lon    max_lat\n",
      "0             Nicobar Islands  92.718102   6.754256  93.947807   9.256946\n",
      "1    North and Middle Andaman  92.629852  12.063320  94.277779  14.935834\n",
      "2               South Andaman  92.207237  10.510903  93.880699  12.320820\n",
      "3                   Anantapur  76.756989  13.675791  78.461617  15.225621\n",
      "4                    Chittoor  78.058342  12.611840  80.039757  13.984812\n",
      "5               East Godavari  81.498032  16.310141  82.595261  18.005671\n",
      "6                      Guntur  79.191986  15.731806  80.896278  16.826389\n",
      "7                     Krishna  79.991676  15.709030  81.570671  17.138029\n",
      "8                     Kurnool  76.970139  14.892391  78.925537  16.159540\n",
      "9                     Nellore  79.062492  13.502809  80.268753  15.107851\n",
      "10                   Prakasam  78.734703  14.943492  80.471848  16.310581\n",
      "11                 Srikakulam  83.406090  18.075500  84.761017  19.156891\n",
      "12              Visakhapatnam  81.858170  17.246250  83.477448  18.538460\n",
      "13               Vizianagaram  82.991516  17.820030  83.816063  19.153631\n",
      "14              West Godavari  80.855049  16.319862  81.857986  17.490000\n",
      "15                     Y.S.R.  77.939766  13.712220  79.460930  15.228871\n",
      "16                      Anjaw  96.276619  27.624210  97.415161  28.466351\n",
      "17                  Changlang  95.632446  26.883631  97.172157  27.668230\n",
      "18              Dibang Valley  95.242432  28.562370  96.615997  29.463345\n",
      "19                East Kameng  92.590179  26.915541  93.390732  27.741890\n",
      "20                 East Siang  94.741356  27.739479  95.571281  28.563120\n",
      "21               Kurung Kumey  92.661163  27.595371  93.910591  28.367630\n",
      "22                      Lohit  95.758217  27.562401  96.690987  28.377213\n",
      "23                   Longding  95.184502  26.656021  95.565620  27.112850\n",
      "24        Lower Dibang Valley  95.320366  27.881788  96.372963  28.744490\n",
      "25            Lower Subansiri  93.391731  27.329720  94.356796  28.028866\n",
      "26                     Namsai  95.770523  27.551100  96.112350  27.772905\n",
      "27                 Papum Pare  93.211212  26.938530  94.210655  27.641867\n",
      "28                     Tawang  91.554825  27.459578  92.315956  27.863520\n",
      "29                      Tirap  95.362274  26.821213  95.697617  27.270620\n",
      "..                        ...        ...        ...        ...        ...\n",
      "636                 Champawat  79.786316  29.058020  80.320129  29.526173\n",
      "637                  Dehradun  77.562241  29.947910  78.299026  30.979910\n",
      "638                   Garhwal  78.181107  29.456181  79.221100  30.316839\n",
      "639                   Hardwar  77.702019  29.545860  78.331741  30.250740\n",
      "640                  Nainital  78.831856  28.988083  79.967926  29.614910\n",
      "641               Pithoragarh  79.808746  29.438393  81.019997  30.813421\n",
      "642               Rudraprayag  78.895981  30.294510  79.342270  30.812132\n",
      "643             Tehri Garhwal  77.926323  30.059092  79.046822  30.884211\n",
      "644         Udham Singh Nagar  78.713860  28.715620  80.159927  29.385340\n",
      "645                Uttarkashi  77.733276  30.473963  79.392357  31.472260\n",
      "646                Alipurduar  89.045197  26.395390  89.877548  26.862425\n",
      "647                   Bankura  86.604950  22.622820  87.761971  23.637991\n",
      "648                Barddhaman  86.790939  22.930771  88.416061  23.879951\n",
      "649                   Birbhum  87.084511  23.537680  88.022942  24.582331\n",
      "650          Dakshin Dinajpur  88.177597  25.167130  89.011337  25.596514\n",
      "651                 Darjiling  87.990051  26.446251  88.878975  27.221031\n",
      "652                     Haora  87.841751  22.219721  88.365517  22.776312\n",
      "653                     Hugli  87.502983  22.593971  88.504478  23.225071\n",
      "654                Jalpaiguri  88.390266  26.332800  89.122818  26.993816\n",
      "655                Koch Bihar  88.744209  25.964581  89.861542  26.545790\n",
      "656                   Kolkata  88.270653  22.494940  88.407310  22.629740\n",
      "657                    Maldah  87.759102  24.656300  88.462997  25.538050\n",
      "658               Murshidabad  87.813896  23.718260  88.737846  24.854353\n",
      "659                     Nadia  88.133186  22.870951  88.800148  24.099510\n",
      "660         North 24 Parganas  88.331017  21.548891  89.096367  23.250990\n",
      "661        Pashchim Medinipur  86.555107  21.760073  87.888573  22.949442\n",
      "662           Purba Medinipur  87.423943  21.608704  88.193611  22.510500\n",
      "663                  Puruliya  85.826363  22.701521  86.894066  23.697229\n",
      "664         South 24 Parganas  88.014709  21.539446  88.821251  22.622231\n",
      "665            Uttar Dinajpur  87.803558  25.242540  88.525230  26.497141\n",
      "\n",
      "[666 rows x 5 columns]\n"
     ]
    }
   ],
   "source": [
    "df = gpd.read_file(shapefile_path)\n",
    "\n",
    "# Extract individual list for minimum and maximum latitude and longitude for each district\n",
    "district_bounds = df.geometry.apply(lambda x: x.bounds).tolist() \n",
    "min_lon, min_lat, max_lon, max_lat = zip(*district_bounds)\n",
    "\n",
    "district_names = df.Name.tolist()\n",
    "\n",
    "data_tuples = list(zip(district_names, min_lon, min_lat, max_lon, max_lat))\n",
    "\n",
    "output_df = pd.DataFrame(data_tuples, columns=['district_name', 'min_lon', 'min_lat', 'max_lon', 'max_lat'])\n",
    "\n",
    "print(output_df)\n",
    "\n",
    "# saving the dataframe as a csv file\n",
    "output_df.to_csv(output_csv_path, index=False)\n",
    "\n",
    "\n",
    "\n",
    "\n"
   ]
  },
  {
   "cell_type": "code",
   "execution_count": null,
   "metadata": {},
   "outputs": [],
   "source": []
  }
 ],
 "metadata": {
  "kernelspec": {
   "display_name": "Python 3",
   "language": "python",
   "name": "python3"
  },
  "language_info": {
   "codemirror_mode": {
    "name": "ipython",
    "version": 3
   },
   "file_extension": ".py",
   "mimetype": "text/x-python",
   "name": "python",
   "nbconvert_exporter": "python",
   "pygments_lexer": "ipython3",
   "version": "3.6.9"
  }
 },
 "nbformat": 4,
 "nbformat_minor": 2
}
